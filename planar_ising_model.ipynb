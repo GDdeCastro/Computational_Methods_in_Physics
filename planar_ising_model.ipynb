{
  "cells": [
    {
      "cell_type": "markdown",
      "metadata": {
        "id": "view-in-github",
        "colab_type": "text"
      },
      "source": [
        "<a href=\"https://colab.research.google.com/github/GDdeCastro/Computational_Methods_in_Physics/blob/main/planar_ising_model.ipynb\" target=\"_parent\"><img src=\"https://colab.research.google.com/assets/colab-badge.svg\" alt=\"Open In Colab\"/></a>"
      ]
    },
    {
      "cell_type": "code",
      "execution_count": null,
      "metadata": {
        "id": "6BmvCNWNeu6O"
      },
      "outputs": [],
      "source": [
        "# Importing useful libraries\n",
        "import numpy as np\n",
        "import matplotlib.pyplot as plt"
      ]
    },
    {
      "cell_type": "code",
      "execution_count": null,
      "metadata": {
        "id": "OOgVhy5n6kXB"
      },
      "outputs": [],
      "source": [
        "def initial_config(N, M):\n",
        "  spins_config0 = np.random.choice([-1,1], N*M) # gera um grande vetor de +- uns\n",
        "  spins_config0 = np.reshape(spins_config0,(N,M)) # transforma o vetor numa matriz\n",
        "  return spins_config0 # retorna uma configuração inicial de spins aleatória em 2D"
      ]
    },
    {
      "cell_type": "code",
      "execution_count": null,
      "metadata": {
        "id": "EeDFq585GNj7"
      },
      "outputs": [],
      "source": [
        "def calculate_energy(spins_config, J, h):\n",
        "  N, M = np.shape(spins_config) # obtém as dimensões da matriz de spins\n",
        "  sum = 0 \n",
        "  for i in range(N):\n",
        "    for j in range(M): # para cada posição na malha\n",
        "      sum += -J*spins_config[i,j]*(spins_config[(i+1)%N,j]+spins_config[i,(j+1)%M]) # soma a contribuição dos vizinhos superiores\n",
        "      sum += -h*spins_config[i,j] # adiciona a contribuição do campo magnético\n",
        "  return sum"
      ]
    },
    {
      "cell_type": "code",
      "execution_count": null,
      "metadata": {
        "id": "3dd7PrBQRPrw"
      },
      "outputs": [],
      "source": [
        "def plot_config(spins_config, name):\n",
        "  plt.figure(figsize=(8,8)) # cria figura\n",
        "  plt.imshow(spins_config, 'Greys_r') # plota grade que mostra a configuração\n",
        "  # de spins em 2D\n",
        "  plt.tick_params(left = False, bottom = False, labelleft = False, labelbottom = False)\n",
        "  plt.savefig(name+'.png') # salva a imagem"
      ]
    },
    {
      "cell_type": "code",
      "execution_count": null,
      "metadata": {
        "id": "0SoeG-4FdzpX"
      },
      "outputs": [],
      "source": [
        "def delta_e(s, i, j, J, h):\n",
        "  '''\n",
        "  Essa funcao calcula a variacao da energia (O Eflip)\n",
        "  '''\n",
        "  N, M = np.shape(s) # pego o tamanho da matriz\n",
        "  s_cand = s[i,j] # Pego o spin candidato\n",
        "\n",
        "  # Aqui calculo efetivamente o DE\n",
        "  neigh = s[(i-1)%N,j] + s[(i+1)%N,j] + s[i,(j-1)%M] + s[i,(j+1)%M] # funciona inclusive nas bordas\n",
        "  sum = -J*(2*s_cand*(neigh)) - 2*h*s_cand # computo DE\n",
        "  # importante: A matriz que é recebida já deve ser a matriz com o spin flipado!\n",
        "  # Em outras palavras, o delta_e é calculado supondo que recebe o valor de S_novo\n",
        "  return sum"
      ]
    },
    {
      "cell_type": "code",
      "execution_count": null,
      "metadata": {
        "id": "ouujqfXXdQXh"
      },
      "outputs": [],
      "source": [
        "#@jit(fastmath=True)\n",
        "def sweep_config(spins_config, J, h, beta, E):\n",
        "  '''\n",
        "  Essa funcao varre todos os spins da malha de spins aleatoriamente\n",
        "  e flipa de acordo com a possibilidade do algoritmo de metropolis\n",
        "  '''\n",
        "  E0 = E\n",
        "  N, M = np.shape(spins_config) # Obtenho o tamanho da malha\n",
        "  n = np.arange(N) # Crio uma lista de índices das linhas\n",
        "  m = np.arange(M) # Crio uma lista de índices das colunas\n",
        "  np.random.shuffle(n) # Embaralho a primeira lista\n",
        "  np.random.shuffle(m) # Embaralho a segunda lista\n",
        "  for nn in n: # percorro a malha usando os índices das listas embaralhadas\n",
        "    for mm in m:\n",
        "      spins_config[nn, mm] *= -1 # flipo o spin (previamente)\n",
        "      DE = delta_e(spins_config, nn, mm, J, h) # calculo a variação de energia\n",
        "      E += DE # atualizo a energia\n",
        "      if DE > 0: # Se DE > 0, vejo a possibilidade de flipar mesmo assim\n",
        "        p_flip = np.exp(-DE*beta) # Probabilidade de flipar\n",
        "        r = np.random.uniform(0,1) # número aleatório\n",
        "        if p_flip < r: # Probabilidade pequena\n",
        "          spins_config[nn, mm] *= -1 # desflipo o spin\n",
        "          E -= DE # retiro o incremento da energia\n",
        "  return E # retorno a nova energia"
      ]
    },
    {
      "cell_type": "code",
      "execution_count": null,
      "metadata": {
        "id": "0om5rLGNlnqY"
      },
      "outputs": [],
      "source": [
        "def run_simulation(Nmax, Ts, hs, J, k, N, M, inicio_aleatorio = True):\n",
        "\n",
        "  '''\n",
        "  Aqui, efetivamente, rodo a simulação\n",
        "  '''\n",
        "\n",
        "  EE = [] # lista para salvar os dados de energia para cada h\n",
        "  C = [] # lista para salvar os dados de capacidade térmica\n",
        "  MM = [] # lista para salvar os dados de magnetizacao para cada h\n",
        "  CHI = [] # lista para salvar os dados de susceptibilidade magnetica para cada h\n",
        "\n",
        "  for hh in range(np.size(hs)): # para cada h na lista hs\n",
        "    Es = [] # lista para guardar as energias médias\n",
        "    Es2 = [] # lista para guardar as energias medias quadradas\n",
        "    Mags = [] # lista para guardar as magnetizacoes médias\n",
        "    Mags2 = [] # lista para guardar as magnetizacoes médias quadradas\n",
        "    Cs = [] # ista para guardar as capacidades térmicas\n",
        "    Chis = [] # lista para guardar as susceptibilidades magnéticas\n",
        "    if inicio_aleatorio:\n",
        "      config0 = initial_config(N, M) # crio uma configuração aleatória de spins\n",
        "    else:\n",
        "      config0 = np.ones((N,M)) # crio uma configuração magnetizada (spins up)\n",
        "    for t in range(np.size(Ts)):  # para cada temperatura na lista ts\n",
        "      beta = 1/(k*Ts[t]) # calculo beta\n",
        "      ms = [] # lista para guardar as magnetizacoes por sitio (em módulo)\n",
        "      es = [] # lista para guardar as energias\n",
        "      spins_config = np.copy(config0) \n",
        "      E = calculate_energy(spins_config, J, hs[hh]) # calculo a energia inicial\n",
        "      m = np.absolute(np.mean(spins_config)) # calculo a magnetizacao inicial\n",
        "      es.append(E) # salvo a primeira energia\n",
        "      ms.append(m) # salvo a primeira magnet\n",
        "      for cont in range(Nmax-1): # itero nas varreduras\n",
        "        E = sweep_config(spins_config, J, hs[hh], beta, E) # varro e salvo a energia nova\n",
        "        es.append(E) # salvo a energia\n",
        "        ms.append(np.sum(spins_config)) # salvo a magnetizacao\n",
        "      Mags.append(np.mean(ms)) # salvo a magnetizacao média total\n",
        "      Mags2.append(np.mean(np.array(ms)**2)) # salvo a magnetização quadrada média\n",
        "      Es.append(np.mean(es)) # salvo a energia média total\n",
        "      Es2.append(np.mean(np.array(es)**2)) # Salvo a energia quadrada média\n",
        "      Cs.append(-(Es[-1]**2 - Es2[-1])/(k**2*Ts[t]**2)) # Salvo o calor específico\n",
        "      Chis.append(-(Mags[-1]**2 - Mags2[-1])/(k*Ts[t])) # Salvo a susceptibilidade magnética\n",
        "    EE.append(Es) # Salvo os dados para cada h\n",
        "    MM.append(Mags)\n",
        "    C.append(Cs)\n",
        "    CHI.append(Chis)\n",
        "  Ts = np.array(Ts) # transformo todas as listas em arrays numpy \n",
        "  hs = np.array(hs)\n",
        "  EE = np.array(EE)/(N*M)\n",
        "  MM = np.array(np.absolute(MM))/(N*M)\n",
        "  C = np.array(C)/(N*M)\n",
        "  CHI = np.array(CHI)/(N*M)\n",
        "  return Ts, hs, EE, MM, C, CHI"
      ]
    },
    {
      "cell_type": "code",
      "execution_count": null,
      "metadata": {
        "id": "Lt1qZonPmh9L"
      },
      "outputs": [],
      "source": [
        "def mag_onsager(k, J, T):\n",
        "  '''\n",
        "  Essa função calcula a magnetização prevista por Onsager\n",
        "  para uma configuração de spins em 2D com h = 0\n",
        "  '''\n",
        "  beta = (k*T)**(-1) # calcula a constante beta\n",
        "  if T <= 2*J/(k*np.log(1+np.sqrt(2))): # Se a temperatura é inferior à crítica\n",
        "    return (1-(np.sinh(2*beta*J))**(-4))**(1/8) # magnetização espontânea de Onsager\n",
        "  else: # A função é por partes\n",
        "    return 0"
      ]
    },
    {
      "cell_type": "code",
      "execution_count": null,
      "metadata": {
        "id": "dAALtEzb_WnN"
      },
      "outputs": [],
      "source": [
        "def plot_observables(Ts, hs, EE, MM, C, CHI, k, J, lit = True):\n",
        "\n",
        "  '''\n",
        "  Essa função plota os observáveis calculados. A variável lit serve para\n",
        "  plotar ou não a função de magnetização esperada por Onsager sobre os dados computados \n",
        "  computacionalmente.\n",
        "  '''\n",
        "\n",
        "  fig, ax = plt.subplots(figsize=(8,8))\n",
        "\n",
        "  tc = 2*J/(k*np.log(1+np.sqrt(2)))\n",
        "  t_aux = np.arange(0.01,4,0.01)\n",
        "  m_onsager = np.array([mag_onsager(k,J,t) for t in t_aux])\n",
        "\n",
        "  ax.axvline(x = tc, color='black',linestyle='dashed', label=r'$T_c \\approx 2.27$')\n",
        "  for hh in range(np.size(hs)):\n",
        "      ax.plot(Ts, MM[hh], 's--', label=f'h = {hs[hh]}')\n",
        "      ax.set_xlabel('T[K]', fontsize=18)\n",
        "      ax.set_ylabel('|<M(T)>|', fontsize=18)\n",
        "      ax.set_title('Magnetização Média em Função da Temperatura', fontsize=18)\n",
        "\n",
        "      ax.tick_params(axis='both', which='major', labelsize=14)\n",
        "  if lit:\n",
        "    ax.plot(t_aux, m_onsager, 'k-', label=f'Onsager Solution')\n",
        "  ax.legend(fontsize=(14))\n",
        "  plt.savefig(f'mag_vs_temp_hs')\n",
        "  \n",
        "  fig1, ax = plt.subplots(figsize=(8,8))\n",
        "  ax.axvline(x = tc, color='black',linestyle='dashed', label=r'$T_c \\approx 2.27$')\n",
        "  for hh in range(np.size(hs)):\n",
        "      ax.plot(Ts, EE[hh], 's--', label=f'h = {hs[hh]}')\n",
        "      ax.set_xlabel('T[K]', fontsize=18)\n",
        "      ax.set_ylabel('<E(T)>', fontsize=18)\n",
        "      ax.legend(fontsize=(14))\n",
        "      #ax.set_xscale('log')\n",
        "      #ax.set_yscale('log')\n",
        "      ax.set_title('Energia Média por Sítio em Função da Temperatura', fontsize=18)\n",
        "\n",
        "      ax.tick_params(axis='both', which='major', labelsize=14)\n",
        "  plt.savefig(f'en_vs_temp_hs')\n",
        "\n",
        "  fig2, ax = plt.subplots(figsize=(8,8))\n",
        "  ax.axvline(x = tc, color='black',linestyle='dashed', label=r'$T_c \\approx 2.27$')\n",
        "  for hh in range(np.size(hs)):\n",
        "      #ax.axvline(x = find_max_point(C[hh], Ts), color='red',linestyle='dashed', label=f'$T_c$ = {find_max_point(C[hh], Ts):.3f}')\n",
        "      ax.plot(Ts, C[hh], 's--', label=f'h = {hs[hh]}')\n",
        "      ax.set_xlabel('T[K]', fontsize=18)\n",
        "      ax.set_ylabel('C(T)', fontsize=18)\n",
        "      ax.legend(fontsize=(14))\n",
        "      ax.set_title('Calor Específico em Função da Temperatura', fontsize=18)\n",
        "\n",
        "      ax.tick_params(axis='both', which='major', labelsize=14)\n",
        "  ax.set_xlim(1, 2.8)\n",
        "  ax.set_ylim(0, 3)\n",
        "  plt.savefig(f'C_vs_temp_hs')\n",
        "\n",
        "  fig3, ax = plt.subplots(figsize=(8,8))\n",
        "  ax.axvline(x = tc, color='black',linestyle='dashed', label=r'$T_c \\approx 2.27$')\n",
        "  for hh in range(np.size(hs)):\n",
        "      ax.plot(Ts, CHI[hh], 's--', label=f'h = {hs[hh]}')\n",
        "      ax.set_xlabel('T[K]', fontsize=18)\n",
        "      ax.set_ylabel(r'$\\chi$(T)', fontsize=18)\n",
        "      ax.legend(fontsize=(14))\n",
        "      ax.set_title('Susceptibilidade Magnética em Função da Temperatura', fontsize=18)\n",
        "\n",
        "      ax.tick_params(axis='both', which='major', labelsize=14)\n",
        "  ax.set_xlim(1.4, 2.8)\n",
        "  plt.savefig(f'CHI_vs_temp_hs')\n"
      ]
    },
    {
      "cell_type": "code",
      "execution_count": null,
      "metadata": {
        "id": "VkOf-Vv9wic2",
        "colab": {
          "base_uri": "https://localhost:8080/",
          "height": 311
        },
        "outputId": "8426bafa-40ef-426d-91e6-5af24d641c26"
      },
      "outputs": [
        {
          "output_type": "error",
          "ename": "KeyboardInterrupt",
          "evalue": "ignored",
          "traceback": [
            "\u001b[0;31m---------------------------------------------------------------------------\u001b[0m",
            "\u001b[0;31mKeyboardInterrupt\u001b[0m                         Traceback (most recent call last)",
            "\u001b[0;32m<ipython-input-10-80b4c5c0d1bf>\u001b[0m in \u001b[0;36m<module>\u001b[0;34m()\u001b[0m\n\u001b[0;32m----> 1\u001b[0;31m \u001b[0mTs\u001b[0m\u001b[0;34m,\u001b[0m \u001b[0mhs\u001b[0m\u001b[0;34m,\u001b[0m \u001b[0mEE\u001b[0m\u001b[0;34m,\u001b[0m \u001b[0mMM\u001b[0m\u001b[0;34m,\u001b[0m \u001b[0mC\u001b[0m\u001b[0;34m,\u001b[0m \u001b[0mCHI\u001b[0m \u001b[0;34m=\u001b[0m \u001b[0mrun_simulation\u001b[0m\u001b[0;34m(\u001b[0m\u001b[0;36m1000\u001b[0m\u001b[0;34m,\u001b[0m \u001b[0mnp\u001b[0m\u001b[0;34m.\u001b[0m\u001b[0marange\u001b[0m\u001b[0;34m(\u001b[0m\u001b[0;36m0.1\u001b[0m\u001b[0;34m,\u001b[0m\u001b[0;36m15\u001b[0m\u001b[0;34m,\u001b[0m\u001b[0;36m0.2\u001b[0m\u001b[0;34m)\u001b[0m\u001b[0;34m,\u001b[0m \u001b[0;34m[\u001b[0m\u001b[0;36m0\u001b[0m\u001b[0;34m,\u001b[0m\u001b[0;36m1\u001b[0m\u001b[0;34m,\u001b[0m\u001b[0;36m2\u001b[0m\u001b[0;34m,\u001b[0m\u001b[0;36m3\u001b[0m\u001b[0;34m,\u001b[0m\u001b[0;36m4\u001b[0m\u001b[0;34m]\u001b[0m\u001b[0;34m,\u001b[0m \u001b[0;36m1\u001b[0m\u001b[0;34m,\u001b[0m \u001b[0;36m1\u001b[0m\u001b[0;34m,\u001b[0m \u001b[0;36m20\u001b[0m\u001b[0;34m,\u001b[0m \u001b[0;36m20\u001b[0m\u001b[0;34m,\u001b[0m \u001b[0;32mFalse\u001b[0m\u001b[0;34m)\u001b[0m\u001b[0;34m\u001b[0m\u001b[0;34m\u001b[0m\u001b[0m\n\u001b[0m",
            "\u001b[0;32m<ipython-input-7-ebdde9e9fa2b>\u001b[0m in \u001b[0;36mrun_simulation\u001b[0;34m(Nmax, Ts, hs, J, k, N, M, inicio_aleatorio)\u001b[0m\n\u001b[1;32m     31\u001b[0m       \u001b[0mms\u001b[0m\u001b[0;34m.\u001b[0m\u001b[0mappend\u001b[0m\u001b[0;34m(\u001b[0m\u001b[0mm\u001b[0m\u001b[0;34m)\u001b[0m \u001b[0;31m# salvo a primeira magnet\u001b[0m\u001b[0;34m\u001b[0m\u001b[0;34m\u001b[0m\u001b[0m\n\u001b[1;32m     32\u001b[0m       \u001b[0;32mfor\u001b[0m \u001b[0mcont\u001b[0m \u001b[0;32min\u001b[0m \u001b[0mrange\u001b[0m\u001b[0;34m(\u001b[0m\u001b[0mNmax\u001b[0m\u001b[0;34m-\u001b[0m\u001b[0;36m1\u001b[0m\u001b[0;34m)\u001b[0m\u001b[0;34m:\u001b[0m \u001b[0;31m# itero nas varreduras\u001b[0m\u001b[0;34m\u001b[0m\u001b[0;34m\u001b[0m\u001b[0m\n\u001b[0;32m---> 33\u001b[0;31m         \u001b[0mE\u001b[0m \u001b[0;34m=\u001b[0m \u001b[0msweep_config\u001b[0m\u001b[0;34m(\u001b[0m\u001b[0mspins_config\u001b[0m\u001b[0;34m,\u001b[0m \u001b[0mJ\u001b[0m\u001b[0;34m,\u001b[0m \u001b[0mhs\u001b[0m\u001b[0;34m[\u001b[0m\u001b[0mhh\u001b[0m\u001b[0;34m]\u001b[0m\u001b[0;34m,\u001b[0m \u001b[0mbeta\u001b[0m\u001b[0;34m,\u001b[0m \u001b[0mE\u001b[0m\u001b[0;34m)\u001b[0m \u001b[0;31m# varro e salvo a energia nova\u001b[0m\u001b[0;34m\u001b[0m\u001b[0;34m\u001b[0m\u001b[0m\n\u001b[0m\u001b[1;32m     34\u001b[0m         \u001b[0mes\u001b[0m\u001b[0;34m.\u001b[0m\u001b[0mappend\u001b[0m\u001b[0;34m(\u001b[0m\u001b[0mE\u001b[0m\u001b[0;34m)\u001b[0m \u001b[0;31m# salvo a energia\u001b[0m\u001b[0;34m\u001b[0m\u001b[0;34m\u001b[0m\u001b[0m\n\u001b[1;32m     35\u001b[0m         \u001b[0mms\u001b[0m\u001b[0;34m.\u001b[0m\u001b[0mappend\u001b[0m\u001b[0;34m(\u001b[0m\u001b[0mnp\u001b[0m\u001b[0;34m.\u001b[0m\u001b[0msum\u001b[0m\u001b[0;34m(\u001b[0m\u001b[0mspins_config\u001b[0m\u001b[0;34m)\u001b[0m\u001b[0;34m)\u001b[0m \u001b[0;31m# salvo a magnetizacao\u001b[0m\u001b[0;34m\u001b[0m\u001b[0;34m\u001b[0m\u001b[0m\n",
            "\u001b[0;32m<ipython-input-6-54fa0cc58512>\u001b[0m in \u001b[0;36msweep_config\u001b[0;34m(spins_config, J, h, beta, E)\u001b[0m\n\u001b[1;32m     17\u001b[0m       \u001b[0mE\u001b[0m \u001b[0;34m+=\u001b[0m \u001b[0mDE\u001b[0m \u001b[0;31m# atualizo a energia\u001b[0m\u001b[0;34m\u001b[0m\u001b[0;34m\u001b[0m\u001b[0m\n\u001b[1;32m     18\u001b[0m       \u001b[0;32mif\u001b[0m \u001b[0mDE\u001b[0m \u001b[0;34m>\u001b[0m \u001b[0;36m0\u001b[0m\u001b[0;34m:\u001b[0m \u001b[0;31m# Se DE > 0, vejo a possibilidade de flipar mesmo assim\u001b[0m\u001b[0;34m\u001b[0m\u001b[0;34m\u001b[0m\u001b[0m\n\u001b[0;32m---> 19\u001b[0;31m         \u001b[0mp_flip\u001b[0m \u001b[0;34m=\u001b[0m \u001b[0mnp\u001b[0m\u001b[0;34m.\u001b[0m\u001b[0mexp\u001b[0m\u001b[0;34m(\u001b[0m\u001b[0;34m-\u001b[0m\u001b[0mDE\u001b[0m\u001b[0;34m*\u001b[0m\u001b[0mbeta\u001b[0m\u001b[0;34m)\u001b[0m \u001b[0;31m# Probabilidade de flipar\u001b[0m\u001b[0;34m\u001b[0m\u001b[0;34m\u001b[0m\u001b[0m\n\u001b[0m\u001b[1;32m     20\u001b[0m         \u001b[0mr\u001b[0m \u001b[0;34m=\u001b[0m \u001b[0mnp\u001b[0m\u001b[0;34m.\u001b[0m\u001b[0mrandom\u001b[0m\u001b[0;34m.\u001b[0m\u001b[0muniform\u001b[0m\u001b[0;34m(\u001b[0m\u001b[0;36m0\u001b[0m\u001b[0;34m,\u001b[0m\u001b[0;36m1\u001b[0m\u001b[0;34m)\u001b[0m \u001b[0;31m# número aleatório\u001b[0m\u001b[0;34m\u001b[0m\u001b[0;34m\u001b[0m\u001b[0m\n\u001b[1;32m     21\u001b[0m         \u001b[0;32mif\u001b[0m \u001b[0mp_flip\u001b[0m \u001b[0;34m<\u001b[0m \u001b[0mr\u001b[0m\u001b[0;34m:\u001b[0m \u001b[0;31m# Probabilidade pequena\u001b[0m\u001b[0;34m\u001b[0m\u001b[0;34m\u001b[0m\u001b[0m\n",
            "\u001b[0;31mKeyboardInterrupt\u001b[0m: "
          ]
        }
      ],
      "source": [
        "Ts, hs, EE, MM, C, CHI = run_simulation(1000, np.arange(0.1,15,0.2), [0,1,2,3,4], 1, 1, 20, 20, False)"
      ]
    },
    {
      "cell_type": "code",
      "execution_count": null,
      "metadata": {
        "id": "kr1c9Xx6ERFv"
      },
      "outputs": [],
      "source": [
        "plot_observables(Ts, hs, EE, MM, C, CHI, 1, 1, False)"
      ]
    },
    {
      "cell_type": "code",
      "source": [
        "def derivada(y, x):\n",
        "  '''\n",
        "  Essa função calcula uma derivada numérica de uma grandeza y\n",
        "  em função de uma grandeza x.\n",
        "  '''\n",
        "  ds = []\n",
        "\n",
        "  for i in range(len(x)):\n",
        "    if i == 0: # se eu estou na borda da esquerda\n",
        "      d = (y[i+1] - y[i])/(x[i+1] - x[i]) \n",
        "    elif i == len(x)-1: # borda da direita\n",
        "      d = (y[i] - y[i-1])/(x[i] - x[i-1]) \n",
        "    else: \n",
        "      d = (y[i+1] - y[i-1])/(x[i+1] - x[i-1])\n",
        "    ds.append(d)\n",
        "  return ds"
      ],
      "metadata": {
        "id": "7zq14dnk_D4m"
      },
      "execution_count": null,
      "outputs": []
    },
    {
      "cell_type": "code",
      "source": [
        "derivada_energia = derivada(EE[0], Ts)"
      ],
      "metadata": {
        "id": "7N_y2KV9_i0e"
      },
      "execution_count": null,
      "outputs": []
    },
    {
      "cell_type": "code",
      "source": [
        "plt.plot(Ts, derivada_energia)"
      ],
      "metadata": {
        "id": "4DOUQzPM_1XD"
      },
      "execution_count": null,
      "outputs": []
    },
    {
      "cell_type": "code",
      "source": [
        "fig, ax = plt.subplots(figsize=(8,8))\n",
        "\n",
        "tc = 2*J/(k*np.log(1+np.sqrt(2)))\n",
        "ax.axvline(x = tc, color='black',linestyle='dashed', label=r'$T_c \\approx 2.27$')\n",
        "ax.plot(Ts, derivada_energia, '-', label=f'h = {0}')\n",
        "ax.set_xlabel('T[K]', fontsize=18)\n",
        "ax.set_ylabel(r'$\\frac{d<E>}{dT}$', fontsize=18)\n",
        "ax.set_title('Derivada da Energia Média Função da Temperatura', fontsize=18)\n",
        "ax.tick_params(axis='both', which='major', labelsize=14)\n",
        "ax.axvline(x = find_max_point(derivada_energia, Ts), color='red',linestyle='dashed', label=f'$T_c$ = {find_max_point(derivada_energia, Ts):.3f}')\n",
        "ax.legend(fontsize=(14))\n"
      ],
      "metadata": {
        "id": "e12X9i9GFNF9"
      },
      "execution_count": null,
      "outputs": []
    },
    {
      "cell_type": "code",
      "source": [
        "def find_max_point(y,x):\n",
        "  '''\n",
        "  Essa função encontra o x referente ao máximo de um conjunto de dados\n",
        "  '''\n",
        "  aux = 0\n",
        "  auxx = [] # variáveis auxiliares\n",
        "  for i in range(np.size(y)):\n",
        "    if y[i] > y[aux]:\n",
        "      aux = i\n",
        "      auxx = []\n",
        "    elif y[i] == aux:\n",
        "      auxx.append(i)\n",
        "  if len(auxx)>1:\n",
        "    t = []\n",
        "    for i in auxx:\n",
        "      t.append(x[i])\n",
        "    return np.mean(t)\n",
        "  else:\n",
        "    return x[aux]"
      ],
      "metadata": {
        "id": "dby8ph8fNs7l"
      },
      "execution_count": null,
      "outputs": []
    },
    {
      "cell_type": "code",
      "source": [
        "#print(Ts)\n",
        "#print(derivada_energia)\n",
        "find_max_point(derivada_energia,Ts)"
      ],
      "metadata": {
        "id": "QfBO2QJAYVDn"
      },
      "execution_count": null,
      "outputs": []
    },
    {
      "cell_type": "code",
      "source": [
        "def run_grid_simulation(Nmax, T, h, J, k, N, M):\n",
        "  config0 = initial_config(N,M) # cria condição inicial aleatória\n",
        "  plot_config(config0, 'config0') # Plota e salva a configuração inicial\n",
        "  beta = 1/(k*T)\n",
        "  E = calculate_energy(config0, J, h)\n",
        "  for cont in range(Nmax): # itero nas varreduras\n",
        "    E = sweep_config(config0, J, h, beta, E) \n",
        "  plot_config(config0, f'config_final_{T}') # ploto e salvo a configuracao final"
      ],
      "metadata": {
        "id": "jvmN2iWhtH8m"
      },
      "execution_count": null,
      "outputs": []
    },
    {
      "cell_type": "code",
      "source": [
        "#run_grid_simulation(2000,1,0,1,1,200,200)"
      ],
      "metadata": {
        "id": "Ec1lpNyezzJM"
      },
      "execution_count": null,
      "outputs": []
    },
    {
      "cell_type": "code",
      "execution_count": null,
      "metadata": {
        "id": "ebBcZSEjxW3V"
      },
      "outputs": [],
      "source": [
        "def run_simulation_alt(Nmax, Ts, h, J, k, Ns, inicio_aleatorio = True):\n",
        "\n",
        "  '''\n",
        "  Aqui, efetivamente, rodo a simulação (mas para diferentes valores de N)\n",
        "  '''\n",
        "\n",
        "  EE = [] # lista para salvar os dados de energia para cada h\n",
        "  C = [] # lista para salvar os dados de capacidade térmica\n",
        "  MM = [] # lista para salvar os dados de magnetizacao para cada h\n",
        "  CHI = [] # lista para salvar os dados de susceptibilidade magnetica para cada h\n",
        "\n",
        "  for nn in range(np.size(Ns)): # para cada h na lista hs\n",
        "    Es = [] # lista para guardar as energias médias\n",
        "    Es2 = [] # lista para guardar as energias medias quadradas\n",
        "    Mags = [] # lista para guardar as magnetizacoes médias\n",
        "    Mags2 = [] # lista para guardar as magnetizacoes médias quadradas\n",
        "    Cs = [] # ista para guardar as capacidades térmicas\n",
        "    Chis = [] # lista para guardar as susceptibilidades magnéticas\n",
        "    if inicio_aleatorio:\n",
        "      config0 = np.copy(initial_config(Ns[nn], Ns[nn])) # crio uma configuração aleatória de spins\n",
        "    else:\n",
        "      config0 = np.ones((Ns[nn],Ns[nn]))\n",
        "    for t in range(np.size(Ts)):  # para cada temperatura na lista ts\n",
        "      beta = 1/(k*Ts[t]) # calculo beta\n",
        "      ms = [] # lista para guardar as magnetizacoes por sitio (em módulo)\n",
        "      es = [] # lista para guardar as energias\n",
        "      spins_config = np.copy(config0) \n",
        "      E = calculate_energy(spins_config, J, h) # calculo a energia inicial\n",
        "      m = np.absolute(np.mean(spins_config)) # calculo a magnetizacao inicial\n",
        "      es.append(E) # salvo a primeira energia\n",
        "      ms.append(m) # salvo a primeira magnet\n",
        "      for cont in range(Nmax-1): # itero nas varreduras\n",
        "        E = sweep_config(spins_config, J, h, beta, E) # varro e salvo a energia nova\n",
        "        es.append(E) # salvo a energia\n",
        "        ms.append(np.sum(spins_config)) # salvo a magnetizacao\n",
        "      Mags.append(np.mean(ms)) # salvo a magnetizacao média total\n",
        "      Mags2.append(np.mean(np.array(ms)**2))\n",
        "      Es.append(np.mean(es)) # salvo a energia média total\n",
        "      Es2.append(np.mean(np.array(es)**2))\n",
        "      Cs.append(-(Es[-1]**2 - Es2[-1])/(k**2*Ts[t]**2)) # Salvo o calor específico\n",
        "      Chis.append(-(Mags[-1]**2 - Mags2[-1])/(k*Ts[t])) # Salvo a susceptibilidade magnética\n",
        "    EE.append(np.array(Es)/(Ns[nn]**2))\n",
        "    MM.append(np.absolute(np.array(Mags))/(Ns[nn]**2))\n",
        "    C.append(np.array(Cs)/(Ns[nn]**2))\n",
        "    CHI.append(np.array(Chis)/(Ns[nn]**2)) \n",
        "  EE = np.array(EE)\n",
        "  MM = np.array(np.absolute(MM))\n",
        "  C = np.array(C)\n",
        "  CHI = np.array(CHI)\n",
        "  return Ts, Ns, EE, MM, C,CHI"
      ]
    },
    {
      "cell_type": "code",
      "execution_count": null,
      "metadata": {
        "id": "4kBqXtUuxomv"
      },
      "outputs": [],
      "source": [
        "def plot_mag_en_alt(Ts, Ns, EE, MM, C, CHI, k, J, lit = True):\n",
        "  fig, ax = plt.subplots(figsize=(8,8))\n",
        "\n",
        "  tc = 2*J/(k*np.log(1+np.sqrt(2)))\n",
        "  t_aux = np.arange(0.1,4,0.01)\n",
        "  m_onsager = np.array([mag_onsager(k,J,t) for t in t_aux])\n",
        "  ax.axvline(x = tc, color='black',linestyle='dashed', label=r'$T_c \\approx 2.27$')\n",
        "  for nn in range(np.size(Ns)):\n",
        "      ax.plot(Ts, MM[nn], 'o-', label=f'N = {Ns[nn]}')\n",
        "      ax.set_xlabel('T[K]', fontsize=18)\n",
        "      ax.set_ylabel('|<M(T)>|', fontsize=18)\n",
        "      ax.legend(fontsize=(14))\n",
        "      ax.set_title('Magnetização Média em Função da Temperatura', fontsize=18)\n",
        "\n",
        "      ax.tick_params(axis='both', which='major', labelsize=14)\n",
        "  if lit:\n",
        "    ax.plot(t_aux, m_onsager, 'k-', label=f'Onsager Solution')\n",
        "  plt.savefig(f'mag_vs_temp_ns')\n",
        "  \n",
        "  fig1, ax = plt.subplots(figsize=(8,8))\n",
        "  ax.axvline(x = tc, color='black',linestyle='dashed', label=r'$T_c \\approx 2.27$')\n",
        "  for nn in range(np.size(Ns)):\n",
        "      ax.plot(Ts, EE[nn], 's-', label=f'N = {Ns[nn]}')\n",
        "      ax.set_xlabel('T[K]', fontsize=18)\n",
        "      ax.set_ylabel('E', fontsize=18)\n",
        "      ax.legend(fontsize=(14))\n",
        "      ax.set_title('Energia Média em Função da Temperatura', fontsize=18)\n",
        "\n",
        "      ax.tick_params(axis='both', which='major', labelsize=14)\n",
        "  plt.savefig(f'en_vs_temp_ns')\n",
        "\n",
        "  fig2, ax = plt.subplots(figsize=(8,8))\n",
        "  ax.axvline(x = tc, color='black',linestyle='dashed', label=r'$T_c \\approx 2.27$')\n",
        "  for nn in range(np.size(Ns)):\n",
        "      ax.plot(Ts, C[nn], 's-', label=f'N = {Ns[nn]}')\n",
        "      ax.set_xlabel('T[K]', fontsize=18)\n",
        "      ax.set_ylabel('C(T)', fontsize=18)\n",
        "      ax.legend(fontsize=(14))\n",
        "      ax.set_title('Capacidade Térmica em Função da Temperatura', fontsize=18)\n",
        "\n",
        "      ax.tick_params(axis='both', which='major', labelsize=14)\n",
        "  plt.savefig(f'C_vs_temp_hs')\n",
        "\n",
        "  fig3, ax = plt.subplots(figsize=(8,8))\n",
        "  ax.axvline(x = tc, color='black',linestyle='dashed', label=r'$T_c \\approx 2.27$')\n",
        "  for nn in range(np.size(Ns)):\n",
        "      ax.plot(Ts, CHI[nn], 's-', label=f'N = {Ns[nn]}')\n",
        "      ax.set_xlabel('T[K]', fontsize=18)\n",
        "      ax.set_ylabel(r'$\\chi$', fontsize=18)\n",
        "      ax.legend(fontsize=(14))\n",
        "      ax.set_title('Susceptibilidade Magnética em Função da Temperatura', fontsize=18)\n",
        "\n",
        "      ax.tick_params(axis='both', which='major', labelsize=14)\n",
        "  plt.savefig(f'CHI_vs_temp_hs')\n"
      ]
    },
    {
      "cell_type": "code",
      "execution_count": null,
      "metadata": {
        "id": "nKMs7Zy6yUg6"
      },
      "outputs": [],
      "source": [
        "Ts_alt, Ns_alt, EE_alt, MM_alt, C_alt, CHI_alt = run_simulation_alt(1000, np.arange(0.1,4.1,0.1), 0, 1, 1, [5,7], False)"
      ]
    },
    {
      "cell_type": "code",
      "execution_count": null,
      "metadata": {
        "id": "l_OlEdppyeKZ"
      },
      "outputs": [],
      "source": [
        "plot_mag_en_alt(Ts_alt, Ns_alt, EE_alt, MM_alt, C_alt, CHI_alt, 1, 1)"
      ]
    }
  ],
  "metadata": {
    "colab": {
      "collapsed_sections": [],
      "provenance": [],
      "include_colab_link": true
    },
    "kernelspec": {
      "display_name": "Python 3",
      "name": "python3"
    },
    "language_info": {
      "name": "python"
    }
  },
  "nbformat": 4,
  "nbformat_minor": 0
}